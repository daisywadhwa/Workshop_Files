{
  "nbformat": 4,
  "nbformat_minor": 0,
  "metadata": {
    "colab": {
      "provenance": []
    },
    "kernelspec": {
      "name": "python3",
      "display_name": "Python 3"
    },
    "language_info": {
      "name": "python"
    }
  },
  "cells": [
    {
      "cell_type": "markdown",
      "source": [
        "Problem Statement:\n",
        "You work in XYZ Corporation as a Data Analyst. Your company has told you to\n",
        "work with the if-else condition.\n",
        "Tasks To Be Performed:\n",
        "1. Input the values of a and b as 10 and 20 respectively. Now check if a is\n",
        "greater or b is greater using if condition. Think about all the edge cases,\n",
        "and print the statements accordingly.\n"
      ],
      "metadata": {
        "id": "NEDH_t-hbu7n"
      }
    },
    {
      "cell_type": "code",
      "source": [
        "a=10\n",
        "b=20\n",
        "\n",
        "if a > b:\n",
        "  print(\"a is greater than b\")\n",
        "elif b > a:\n",
        "  print(\"b is greater than a\")\n",
        "else:\n",
        "  print(\"a and b are equal\")\n"
      ],
      "metadata": {
        "id": "Bfc6HrUGb7bd",
        "colab": {
          "base_uri": "https://localhost:8080/"
        },
        "outputId": "e98ed905-c6a5-4b1b-a588-fb02677dcd2b"
      },
      "execution_count": 1,
      "outputs": [
        {
          "output_type": "stream",
          "name": "stdout",
          "text": [
            "b is greater than a\n"
          ]
        }
      ]
    },
    {
      "cell_type": "markdown",
      "source": [
        "Problem Statement:\n",
        "You work in XYZ Corporation as a Data Analyst. Your company has told you to\n",
        "work with the if-else condition.\n",
        "Tasks To Be Performed:\n",
        "1. Take three user inputs and print the greatest number from those inputs\n",
        "using if-else condition. Edge cases, if any, should also be handled."
      ],
      "metadata": {
        "id": "MfnP6wzhcB0u"
      }
    },
    {
      "cell_type": "code",
      "source": [
        "a=int(input(\"Enter the first number: \"))\n",
        "b=int(input(\"Enter the second number: \"))\n",
        "c=int(input(\"Enter the third number: \"))\n",
        "if a>b and a>c:\n",
        "  print(a,\"is the greatest number\")\n",
        "elif b>a and b>c:\n",
        "  print(b,\"is the greatest number\")\n",
        "else:\n",
        "  print(c,\"is the greatest number\")"
      ],
      "metadata": {
        "colab": {
          "base_uri": "https://localhost:8080/"
        },
        "id": "F65zTNg-XqAK",
        "outputId": "b7659764-7e74-4683-dc9c-4b2fae323315"
      },
      "execution_count": 3,
      "outputs": [
        {
          "output_type": "stream",
          "name": "stdout",
          "text": [
            "Enter the first number: 10\n",
            "Enter the second number: 14\n",
            "Enter the third number: 5\n",
            "14 is the greatest number\n"
          ]
        }
      ]
    },
    {
      "cell_type": "markdown",
      "source": [
        "Problem Statement:\n",
        "You work in XYZ Corporation as a Data Analyst. Your company has told you to\n",
        "work with the looping statements.\n",
        "Tasks To Be Performed:\n",
        "1. Print the numbers from 1 to 10 using while loop."
      ],
      "metadata": {
        "id": "oP78YOoRcX22"
      }
    },
    {
      "cell_type": "code",
      "source": [
        "i=1\n",
        "while i<=10:\n",
        "  print(i)\n",
        "  i+=1"
      ],
      "metadata": {
        "id": "fFoAqG6wcf3p",
        "colab": {
          "base_uri": "https://localhost:8080/"
        },
        "outputId": "77c6d324-3024-42f6-e999-e7a497edc1d2"
      },
      "execution_count": 4,
      "outputs": [
        {
          "output_type": "stream",
          "name": "stdout",
          "text": [
            "1\n",
            "2\n",
            "3\n",
            "4\n",
            "5\n",
            "6\n",
            "7\n",
            "8\n",
            "9\n",
            "10\n"
          ]
        }
      ]
    },
    {
      "cell_type": "markdown",
      "source": [
        "Problem Statement:\n",
        "You work in XYZ Corporation as a Data Analyst. Your company has told you to\n",
        "work with the looping statements.\n",
        "Tasks To Be Performed:\n",
        "1. Create a list that has 10, 23, 4, 26, 4, 75, 24, 54 values and with the help\n",
        "of while loop fetch the even numbers and print the numbers."
      ],
      "metadata": {
        "id": "eJvUFY6gcg4s"
      }
    },
    {
      "cell_type": "code",
      "source": [
        "lst=[10, 23, 4, 26, 4, 75, 24, 54]\n",
        "i=0\n",
        "while i<len(lst):\n",
        "  if lst[i]%2==0:\n",
        "    print(lst[i])\n",
        "  i+=1"
      ],
      "metadata": {
        "id": "n4w6C4xXcqPJ",
        "colab": {
          "base_uri": "https://localhost:8080/"
        },
        "outputId": "75f802a0-bba1-429c-a3ad-d2c670c5cd58"
      },
      "execution_count": 5,
      "outputs": [
        {
          "output_type": "stream",
          "name": "stdout",
          "text": [
            "10\n",
            "4\n",
            "26\n",
            "4\n",
            "24\n",
            "54\n"
          ]
        }
      ]
    },
    {
      "cell_type": "markdown",
      "source": [
        "Problem Statement:\n",
        "You work in XYZ Corporation as a Data Analyst. Your company has told you to\n",
        "work with the looping statements.\n",
        "Tasks To Be Performed:\n",
        "1. Create an array that has user defined inputs and with the help of for loop,\n",
        "fetch all the prime numbers and print the numbers."
      ],
      "metadata": {
        "id": "wYAvN23Jcq_H"
      }
    },
    {
      "cell_type": "code",
      "source": [
        "def is_prime(n):\n",
        "  if n <= 1:\n",
        "    return False\n",
        "  for i in range(2, int(n**0.5) + 1):\n",
        "    if n % i == 0:\n",
        "      return False\n",
        "  return True\n",
        "\n",
        "arr_size = int(input(\"Enter the size of the array: \"))\n",
        "arr = []\n",
        "for i in range(arr_size):\n",
        "  num = int(input(f\"Enter element {i+1}: \"))\n",
        "  arr.append(num)\n",
        "\n",
        "print(\"Prime numbers in the array:\")\n",
        "for num in arr:\n",
        "  if is_prime(num):\n",
        "    print(num)"
      ],
      "metadata": {
        "colab": {
          "base_uri": "https://localhost:8080/"
        },
        "id": "0RWpPONGYfq6",
        "outputId": "ee8ea64b-f7ca-479e-ec75-f105383ea78f"
      },
      "execution_count": 6,
      "outputs": [
        {
          "output_type": "stream",
          "name": "stdout",
          "text": [
            "Enter the size of the array: 5\n",
            "Enter element 1: 10\n",
            "Enter element 2: 3\n",
            "Enter element 3: 9\n",
            "Enter element 4: 7\n",
            "Enter element 5: 23\n",
            "Prime numbers in the array:\n",
            "3\n",
            "7\n",
            "23\n"
          ]
        }
      ]
    },
    {
      "cell_type": "markdown",
      "source": [
        "Problem Statement:\n",
        "Consider yourself to be Sam who is a data scientist. He has been invited as a\n",
        "guest lecturer at a college to take an introductory session on Python.\n",
        "Tasks To Be Performed:\n",
        "1. Create a list containing squares of numbers from 1 to 10 (HINT: use List\n",
        "Comprehension).\n",
        "2. Write a function to check if the year number is a leap year.\n",
        "3. Write a function to take an array and return another array that contains the\n",
        "members of the first array that are even.\n",
        "4. Write a function that takes 2 arrays and prints the members of the first\n",
        "array that are present in the second array. (HINT: use Membership\n",
        "Comprehension)\n"
      ],
      "metadata": {
        "id": "RvaXnfJSc6y9"
      }
    },
    {
      "cell_type": "code",
      "source": [
        "#Create a list containing squares of numbers from 1 to 10\n",
        "\n",
        "squares = [x**2 for x in range(1, 11)]\n",
        "print(squares)\n",
        "\n",
        "def is_leap_year(year):\n",
        "  if (year % 4 == 0 and year % 100 != 0) or year % 400 == 0:\n",
        "    return True\n",
        "  else:\n",
        "    return False\n",
        "\n",
        "def even_numbers(arr):\n",
        "  even = [x for x in arr if x % 2 == 0]\n",
        "  return even\n",
        "\n",
        "def common_elements(arr1, arr2):\n",
        "  common = [x for x in arr1 if x in arr2]\n",
        "  return common\n",
        "\n"
      ],
      "metadata": {
        "id": "rFTV0WkYdFgg",
        "colab": {
          "base_uri": "https://localhost:8080/"
        },
        "outputId": "29230384-5039-494c-b8ef-c933bdf16eb5"
      },
      "execution_count": 8,
      "outputs": [
        {
          "output_type": "stream",
          "name": "stdout",
          "text": [
            "[1, 4, 9, 16, 25, 36, 49, 64, 81, 100]\n"
          ]
        }
      ]
    },
    {
      "cell_type": "markdown",
      "source": [
        "Problem Statement:\n",
        "Consider yourself to be Sam who is a data scientist. He has been invited as a\n",
        "guest lecturer at a college to take an introductory session on Python.\n",
        "Tasks To Be Performed:\n",
        "1. Create 1st tuple with values -> (10, 20, 30), 2nd tuple with values -> (40,\n",
        "50, 60):\n",
        "a. Concatenate the two tuples and store it in “t_combine”\n",
        "b. Repeat the elements of “t_combine” 3 times\n",
        "c. Access the 3rd element from “t_combine”\n",
        "d. Access the first three elements from “t_combine”\n",
        "e. Access the last three elements from “t_combine”\n",
        "2. Create a list ‘my_list’ with these elements:\n",
        "a. First element is a tuple with values 1, 2, 3\n",
        "b. Second element is a tuple with values “a”, “b”, “c”\n",
        "c. Third element is a tuple with values True, False\n",
        "3. Append a new tuple – (1, ‘a’, True) to ‘my_list’:\n",
        "a. Append a new list – *“sparta”, 123+ to my_list\n",
        "4. Create a dictionary ‘fruit’ where:\n",
        "a. The first key is ‘Fruit’ and the values are (“Apple”, “Banana”, “Mango”,\n",
        "“Guava”)\n",
        "b. The second key is ‘Cost’ and the values are (85, 54, 120, 70)\n",
        "c. Extract all the keys from ‘fruit’\n",
        "d. Extract all the values from ‘fruit’\n",
        "5. Create a set named ‘my_set’ with values (1, 1, “a”, “a”, True, True) and\n",
        "print the result."
      ],
      "metadata": {
        "id": "95Sx_gSFdnD9"
      }
    },
    {
      "cell_type": "code",
      "source": [
        "# Create tuples\n",
        "t1 = (10, 20, 30)\n",
        "t2 = (40, 50, 60)\n",
        "\n",
        "# a. Concatenate the two tuples and store it in “t_combine”\n",
        "t_combine = t1 + t2\n",
        "\n",
        "# b. Repeat the elements of “t_combine” 3 times\n",
        "t_combine_repeated = t_combine * 3\n",
        "\n",
        "# c. Access the 3rd element from “t_combine”\n",
        "third_element = t_combine[2]\n",
        "\n",
        "# d. Access the first three elements from “t_combine”\n",
        "first_three_elements = t_combine[:3]\n",
        "\n",
        "# e. Access the last three elements from “t_combine”\n",
        "last_three_elements = t_combine[-3:]\n",
        "\n",
        "# Create a list ‘my_list’\n",
        "my_list = [(1, 2, 3), (\"a\", \"b\", \"c\"), (True, False)]\n",
        "\n",
        "# Append a new tuple to ‘my_list’\n",
        "my_list.append((1, 'a', True))\n",
        "\n",
        "# Append a new list to ‘my_list’\n",
        "my_list.append([\"sparta\", 123])\n",
        "\n",
        "# Create a dictionary ‘fruit’\n",
        "fruit = {\n",
        "    'Fruit': (\"Apple\", \"Banana\", \"Mango\", \"Guava\"),\n",
        "    'Cost': (85, 54, 120, 70)\n",
        "}\n",
        "\n",
        "# Extract all the keys from ‘fruit’\n",
        "keys = fruit.keys()\n",
        "\n",
        "# Extract all the values from ‘fruit’\n",
        "values = fruit.values()\n",
        "\n",
        "# Create a set named ‘my_set’\n",
        "my_set = {1, 1, \"a\", \"a\", True, True}\n",
        "\n",
        "# Print the results\n",
        "print(\"t_combine:\", t_combine)\n",
        "print(\"t_combine_repeated:\", t_combine_repeated)\n",
        "print(\"third_element:\", third_element)\n",
        "print(\"first_three_elements:\", first_three_elements)\n",
        "print(\"last_three_elements:\", last_three_elements)\n",
        "print(\"my_list:\", my_list)\n",
        "print(\"fruit keys:\", keys)\n",
        "print(\"fruit values:\", values)\n",
        "print(\"my_set:\", my_set)"
      ],
      "metadata": {
        "colab": {
          "base_uri": "https://localhost:8080/"
        },
        "id": "fbX10dXzbFIl",
        "outputId": "fd4763e0-b8ea-47a5-d5b1-0893be9197da"
      },
      "execution_count": 9,
      "outputs": [
        {
          "output_type": "stream",
          "name": "stdout",
          "text": [
            "t_combine: (10, 20, 30, 40, 50, 60)\n",
            "t_combine_repeated: (10, 20, 30, 40, 50, 60, 10, 20, 30, 40, 50, 60, 10, 20, 30, 40, 50, 60)\n",
            "third_element: 30\n",
            "first_three_elements: (10, 20, 30)\n",
            "last_three_elements: (40, 50, 60)\n",
            "my_list: [(1, 2, 3), ('a', 'b', 'c'), (True, False), (1, 'a', True), ['sparta', 123]]\n",
            "fruit keys: dict_keys(['Fruit', 'Cost'])\n",
            "fruit values: dict_values([('Apple', 'Banana', 'Mango', 'Guava'), (85, 54, 120, 70)])\n",
            "my_set: {1, 'a'}\n"
          ]
        }
      ]
    },
    {
      "cell_type": "markdown",
      "source": [
        "Problem Statement:\n",
        "You work in XYZ Corporation as a Data Analyst. Your corporation has told you to\n",
        "work on functions and classes.\n",
        "Tasks To Be Performed:\n",
        "1. Create a function named ‘factor’ that can only accept 1 argument. The\n",
        "function should return the factorial of that number.\n",
        "2. Create a function named ‘check_string’, the function should accept a string\n",
        "data from the user and the function should check if the user input contains\n",
        "the letter ‘s’ in it. If it contains the letter ‘s’ then print- ‘The string is\n",
        "containing the letter ‘s’’, if not then print- ‘The string doesn’t contain the\n",
        "letter ‘s’’.\n",
        "3. Create a class named ‘student’ and inside the class, create a function\n",
        "named ‘fun1’- this method should accept the user defined input and return\n",
        "that value:\n",
        "a. Create another method named- message() and that method should print\n",
        "the user defined input that we have defined in ‘fun1’.\n",
        "4. Create a lambda function that should double or multiply the number (that\n",
        "we will be passing in the lambda function) by 2. Store the lambda function\n",
        "in a variable named ‘double_num’.\n"
      ],
      "metadata": {
        "id": "0jhqXTUhdx3F"
      }
    },
    {
      "cell_type": "code",
      "source": [
        "def factor(n):\n",
        "  if n < 0:\n",
        "    return \"Factorial is not defined for negative numbers\"\n",
        "  elif n == 0:\n",
        "    return\n",
        "def check_string(s):\n",
        "  if 's' in s:\n",
        "    print(\"The string is containing the letter 's'\")\n",
        "  else:\n",
        "    print(\"The string doesn't contain the letter 's'\")\n",
        "class student:\n",
        "  def fun1(self):\n",
        "    self.name = input(\"Enter your name: \")\n",
        "    return self.name\n",
        "  def message(self):\n",
        "    print(\"Your name is\", self.name)\n",
        "double_num = lambda x: x * 2"
      ],
      "metadata": {
        "id": "AB08frX5dw9a"
      },
      "execution_count": 15,
      "outputs": []
    },
    {
      "cell_type": "markdown",
      "source": [
        "Problem Statement:\n",
        "You work in XYZ Corporation as a Python Developer. Your corporation has told\n",
        "you to work with the methods, and functions in Python.\n",
        "Tasks To Be Performed:\n",
        "1. Create a class named ‘Super’ and inside that class define a user-defined\n",
        "function named fun1\n",
        "a. Inside the ‘fun1’ function, pass the message “This is function 1 in the\n",
        "Super class.” in the print statement.\n",
        "2. Create another class named ‘Modified_Super’ and inherit this class from\n",
        "the Super class\n",
        "a. Inside the Modified_Super class, create a function named ‘fun1’ and\n",
        "pass the following message inside the print statement: ‘This is function 1 in\n",
        "the Modified Super class.’\n",
        "b. Create another user-defined function named ‘fun2’ and pass the\n",
        "message: ‘This is the 2 nd function from the Modified Super class’ in the\n",
        "print statement.\n",
        "c. After that, now create an object for the Modified_Super class and call the\n",
        "fun1().\n",
        "3. Create 2 methods named ‘Hello’. In the 1st Hello method, pass only one\n",
        "argument and pass this message: ‘This function is only having 1\n",
        "argument’. And in the 2nd Hello method, pass two arguments and pass\n",
        "this message: ‘This function is having 2 arguments’.\n",
        "a. Try to call both the methods and analyze the output of both the methods.\n",
        "4. Create a method named ‘Sum’ that can accept multiple user inputs. Now\n",
        "add those user defined input values using for loop and the function should\n",
        "return the addition of the numbers.\n",
        "5. Create a class named ‘Encapsulation’:\n",
        "a. Inside the class, first create a constructor. Inside the constructor,\n",
        "initialize originalValue variable as 10.\n",
        "b. After creating the constructor, define a function named ‘Value’ and this\n",
        "function should return the variable that we have initialized in the\n",
        "constructor.\n"
      ],
      "metadata": {
        "id": "Fxn4h3_QeE5K"
      }
    },
    {
      "cell_type": "code",
      "source": [
        "class Super:\n",
        "  def fun1(self):\n",
        "    print(\"This is function 1 in the Super class.\")\n",
        "class Modified_Super(Super):\n",
        "  def fun1(self):\n",
        "    print(\"This is function 1 in the Modified Super class.\")\n",
        "  def fun2(self):\n",
        "    print(\"This is the 2 nd function from the Modified Super class\")\n",
        "  def Hello(self, a):\n",
        "    print(\"This function is only having 1 argument\")\n",
        "  def Hello(self, a, b):\n",
        "    print(\"This function is having 2 arguments\")\n",
        "  def Sum(self, *args):\n",
        "    sum = 0\n",
        "    for arg in args:\n",
        "      sum += arg\n",
        "    return sum\n",
        "  class Encapsulation:\n",
        "    def __init__(self):\n",
        "      self.__originalValue = 10\n",
        "    def Value(self):\n",
        "      return self.__originalValue"
      ],
      "metadata": {
        "id": "M5-UL9JHd0cf"
      },
      "execution_count": null,
      "outputs": []
    },
    {
      "cell_type": "markdown",
      "source": [
        "Problem Statement:\n",
        "You work in XYZ Corporation as a Data Analyst. Your corporation has told you to\n",
        "work on importing various functions.\n",
        "Tasks To Be Performed:\n",
        "1. Create a Python file named Module:\n",
        "a. Inside the file, define 4 methods named – addition, subtraction,\n",
        "multiplication, and division.\n",
        "b. Each method should only accept 2 arguments and should return the\n",
        "result of operation performed in each method. For e.g., addition() should\n",
        "return the sum of two arguments.\n",
        "c. Save the Module file in .py format.\n",
        "2. Open a new python file and import the Module.py file\n",
        "a. Now call the 4 methods from the Module.py file, i.e., addition(),\n",
        "subtraction(), multiplication(), and division().\n",
        "3. From the Module file, import only the addition() and pass the arguments so\n",
        "that it can display the result from the method.\n",
        "4. From the Module file, import only the subtraction() and pass the arguments\n",
        "so that it can display the result from the method.\n",
        "5. From the Module file, import both the multiplication() and division() and\n",
        "pass the arguments so that it can display the result from the methods.\n"
      ],
      "metadata": {
        "id": "SO6fvFsTegJa"
      }
    },
    {
      "cell_type": "code",
      "source": [
        "# Module.py\n",
        "def addition(a, b):\n",
        "   return a + b\n",
        "\n",
        "def subtraction(a, b):\n",
        "   return a - b\n",
        "\n",
        "def multiplication(a, b):\n",
        "   return a * b\n",
        "\n",
        "def division(a, b):\n",
        "   if b == 0:\n",
        "     return \"Cannot divide by zero\"\n",
        "   return a / b"
      ],
      "metadata": {
        "id": "uKRoBh3vce_O"
      },
      "execution_count": 12,
      "outputs": []
    },
    {
      "cell_type": "code",
      "source": [
        "# new file code\n",
        "\n",
        "import Module\n",
        "\n",
        "result_addition = Module.addition(10, 5)\n",
        "result_subtraction = Module.subtraction(10, 5)\n",
        "result_multiplication = Module.multiplication(10, 5)\n",
        "result_division = Module.division(10, 5)\n",
        "\n",
        "print(\"Addition:\", result_addition)\n",
        "print(\"Subtraction:\", result_subtraction)\n",
        "print(\"Multiplication:\", result_multiplication)\n",
        "print(\"Division:\", result_division)\n",
        "\n",
        "# Importing only addition\n",
        "from Module import addition\n",
        "\n",
        "result_addition = addition(10, 5)\n",
        "print(\"Addition:\", result_addition)\n",
        "\n",
        "# Importing only subtraction\n",
        "from Module import subtraction\n",
        "\n",
        "result_subtraction = subtraction(10, 5)\n",
        "print(\"Subtraction:\", result_subtraction)\n",
        "\n",
        "# Importing multiplication and division\n",
        "from Module import multiplication, division\n",
        "\n",
        "result_multiplication = multiplication(10, 5)\n",
        "result_division = division(10, 5)\n",
        "\n",
        "print(\"Multiplication:\", result_multiplication)\n",
        "print(\"Division:\", result_division)\n"
      ],
      "metadata": {
        "id": "V-VYgZtmcoPJ"
      },
      "execution_count": null,
      "outputs": []
    },
    {
      "cell_type": "markdown",
      "source": [
        "Problem Statement:\n",
        "You work in XYZ Corporation as a Data Analyst. Your corporation has told you to\n",
        "work with the inheritance of the classes.\n",
        "Tasks To Be Performed:\n",
        "1. Create a class named parent_Class and inside the class, initialize a global\n",
        "variable num as 10\n",
        "a. Create another class named child_Class and this class should be\n",
        "inherited from the parent class.\n",
        "b. Now create an object for the child_Class and with the help of\n",
        "child_Class object, display the value of ‘num’.\n",
        "2. Create three classes named A, B and C."
      ],
      "metadata": {
        "id": "MKb0GTQ4e3z2"
      }
    },
    {
      "cell_type": "code",
      "source": [
        "class parent_Class:\n",
        "  num = 10\n",
        "class child_Class(parent_Class):\n",
        "  pass\n",
        "child_obj = child_Class()\n",
        "print(child_obj.num)\n",
        "\n",
        "class A:\n",
        "  pass\n",
        "\n",
        "class B:\n",
        "  pass\n",
        "\n",
        "class C:\n",
        "  pass"
      ],
      "metadata": {
        "id": "-VuHS1mcfAL3",
        "colab": {
          "base_uri": "https://localhost:8080/"
        },
        "outputId": "13cd19a0-ed6e-4364-e6cc-f973bf1ccbf9"
      },
      "execution_count": 13,
      "outputs": [
        {
          "output_type": "stream",
          "name": "stdout",
          "text": [
            "10\n"
          ]
        }
      ]
    },
    {
      "cell_type": "markdown",
      "source": [
        "Problem Statement:\n",
        "Consider yourself to be Sam who is a software engineer. He has been asked to\n",
        "build an employee management app. You have to use the OOPs concept to build\n",
        "a few classes as outlined in the steps below.\n",
        "Tasks To Be Performed:\n",
        "1. Create a class named Employee, with a constructor ‘__init__’ method that\n",
        "accepts name and salary as parameters and set properties named name\n",
        "and salary.\n",
        "2. Define __str__ method in Employee class so that when someone tries to\n",
        "print the object the string Name: employee_name, Salary:\n",
        "employee_salary is printed with the actual employee name and salary.\n",
        "3. Create another class named Calculator, with methods to add, subtract,\n",
        "multiply and divide two numbers.\n",
        "4. These methods take two numbers as parameters.\n",
        "5. These methods will be called by a method named execute command.\n",
        "6. Execute command takes in 3 parameters command which is string that can\n",
        "be either ‘add’, ‘sub’, ‘mul’, ‘div’, and two numbers and it will call the\n",
        "appropriate method based on command parameter.\n"
      ],
      "metadata": {
        "id": "rInZuZCafKxN"
      }
    },
    {
      "cell_type": "code",
      "source": [
        "class Employee:\n",
        "  def __init__(self, name, salary):\n",
        "    self.name = name\n",
        "    self.salary = salary\n",
        "  def __str__(self):\n",
        "    return f\"Name: {self.name}, Salary: {self.salary}\"\n",
        "\n",
        "class Calculator:\n",
        "  def add(self, a, b):\n",
        "    return a + b\n",
        "  def subtract(self, a, b):\n",
        "    return a - b\n",
        "  def multiply(self, a, b):\n",
        "    return a * b\n",
        "  def divide(self, a, b):\n",
        "    if b == 0:\n",
        "      return \"Cannot divide by zero\"\n",
        "    return a / b\n",
        "  def execute_command(self, command, num1, num2):\n",
        "    if command == 'add':\n",
        "      return self.add(num1, num2)\n",
        "    elif command == 'sub':\n",
        "      return self.subtract(num1, num2)\n",
        "    elif command == 'mul':\n",
        "      return self.multiply(num1, num2)\n",
        "    elif command == 'div':\n",
        "      return self.divide(num1, num2)\n",
        "    else:\n",
        "      return \"Invalid command\""
      ],
      "metadata": {
        "id": "9vN3xSzAd8NA"
      },
      "execution_count": 16,
      "outputs": []
    }
  ]
}